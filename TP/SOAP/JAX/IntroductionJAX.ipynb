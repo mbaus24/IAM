{
 "cells": [
  {
   "cell_type": "markdown",
   "metadata": {
    "editable": true,
    "slideshow": {
     "slide_type": "slide"
    },
    "tags": []
   },
   "source": [
    "# Introduction à JAX avec une petite application\n",
    "\n",
    "## 1. Présentation de JAX\n",
    "\n",
    "[JAX](https://github.com/google/jax) est un projet récent développé par des ingénieurs de Google pour avoir une API compatible avec des outils existant (Numpy...) capable d'utiliser des CPU, TPU, GPU sans avoir à changer le code.\n",
    "\n",
    "JAX contient les éléments suivant :\n",
    "- *jax.numpy* une couche de compatibilité avec Numpy.\n",
    "- *jit* un compilateur Just In Time (JIT) pour Python.\n",
    "- *grad* pour faire du calcul automatique de dérivées (remplace et améliore *autograd*).\n",
    "- *vmap* pour faire de l'auto-vectorisation.\n"
   ]
  },
  {
   "cell_type": "markdown",
   "metadata": {
    "editable": true,
    "slideshow": {
     "slide_type": "subslide"
    },
    "tags": []
   },
   "source": [
    "## 2. Interfaçage avec Numpy\n",
    "\n",
    "### 2.1. Une introduction\n",
    "\n",
    "Commençons par faire les importations suivantes,"
   ]
  },
  {
   "cell_type": "code",
   "execution_count": 14,
   "metadata": {
    "editable": true,
    "slideshow": {
     "slide_type": "subslide"
    },
    "tags": []
   },
   "outputs": [],
   "source": [
    "import numpy as np\n",
    "import jax\n",
    "import jax.numpy as jnp  # Couche de compatibilité avec Numpy"
   ]
  },
  {
   "cell_type": "markdown",
   "metadata": {},
   "source": [
    "*jax.numpy* propose des fonctions très similaires à celles de Numpy. Par exemple nous pouvons construire les tableaux de façon classique. "
   ]
  },
  {
   "cell_type": "code",
   "execution_count": 15,
   "metadata": {},
   "outputs": [],
   "source": [
    "tab = jnp.zeros((10, 10))  # Une matrice de taille 10x10"
   ]
  },
  {
   "cell_type": "code",
   "execution_count": 16,
   "metadata": {},
   "outputs": [
    {
     "data": {
      "text/plain": [
       "Array([[0., 0., 0., 0., 0., 0., 0., 0., 0., 0.],\n",
       "       [0., 0., 0., 0., 0., 0., 0., 0., 0., 0.],\n",
       "       [0., 0., 0., 0., 0., 0., 0., 0., 0., 0.],\n",
       "       [0., 0., 0., 0., 0., 0., 0., 0., 0., 0.],\n",
       "       [0., 0., 0., 0., 0., 0., 0., 0., 0., 0.],\n",
       "       [0., 0., 0., 0., 0., 0., 0., 0., 0., 0.],\n",
       "       [0., 0., 0., 0., 0., 0., 0., 0., 0., 0.],\n",
       "       [0., 0., 0., 0., 0., 0., 0., 0., 0., 0.],\n",
       "       [0., 0., 0., 0., 0., 0., 0., 0., 0., 0.],\n",
       "       [0., 0., 0., 0., 0., 0., 0., 0., 0., 0.]], dtype=float32)"
      ]
     },
     "execution_count": 16,
     "metadata": {},
     "output_type": "execute_result"
    }
   ],
   "source": [
    "tab"
   ]
  },
  {
   "cell_type": "markdown",
   "metadata": {},
   "source": [
    "Attention les tableaux JAX ne sont pas mutables."
   ]
  },
  {
   "cell_type": "code",
   "execution_count": 17,
   "metadata": {},
   "outputs": [],
   "source": [
    "# tab[1] = 0"
   ]
  },
  {
   "cell_type": "markdown",
   "metadata": {},
   "source": [
    "Pour des raisons d'efficacités, toute modification induit un nouveau tableau.\n",
    "\n",
    "Les calculs se font comme pour Numpy."
   ]
  },
  {
   "cell_type": "code",
   "execution_count": 18,
   "metadata": {},
   "outputs": [
    {
     "data": {
      "text/plain": [
       "Array([[1., 2., 2., 2., 2., 2., 2., 2., 2., 2.],\n",
       "       [2., 1., 2., 2., 2., 2., 2., 2., 2., 2.],\n",
       "       [2., 2., 1., 2., 2., 2., 2., 2., 2., 2.],\n",
       "       [2., 2., 2., 1., 2., 2., 2., 2., 2., 2.],\n",
       "       [2., 2., 2., 2., 1., 2., 2., 2., 2., 2.],\n",
       "       [2., 2., 2., 2., 2., 1., 2., 2., 2., 2.],\n",
       "       [2., 2., 2., 2., 2., 2., 1., 2., 2., 2.],\n",
       "       [2., 2., 2., 2., 2., 2., 2., 1., 2., 2.],\n",
       "       [2., 2., 2., 2., 2., 2., 2., 2., 1., 2.],\n",
       "       [2., 2., 2., 2., 2., 2., 2., 2., 2., 1.]], dtype=float32)"
      ]
     },
     "execution_count": 18,
     "metadata": {},
     "output_type": "execute_result"
    }
   ],
   "source": [
    "(tab + 1) * 2.0 - jnp.diag(jnp.ones((10, )))"
   ]
  },
  {
   "cell_type": "markdown",
   "metadata": {},
   "source": [
    "### 2.2. Mélange avec Numpy\n",
    "\n",
    "Il est possible de mélanger des éléments Numpy avec des élements JAX. Par contre attention au type du résultat final."
   ]
  },
  {
   "cell_type": "code",
   "execution_count": 19,
   "metadata": {},
   "outputs": [],
   "source": [
    "res = (tab + 1) * 2.0 - np.diag(np.ones((10, )))"
   ]
  },
  {
   "cell_type": "code",
   "execution_count": 20,
   "metadata": {},
   "outputs": [
    {
     "data": {
      "text/plain": [
       "jaxlib.xla_extension.ArrayImpl"
      ]
     },
     "execution_count": 20,
     "metadata": {},
     "output_type": "execute_result"
    }
   ],
   "source": [
    "type(res)"
   ]
  },
  {
   "cell_type": "markdown",
   "metadata": {},
   "source": [
    "Le résultat sera toujours un tableau JAX."
   ]
  },
  {
   "cell_type": "markdown",
   "metadata": {},
   "source": [
    "## 3. Préparation d'un jeu de données\n",
    "\n",
    "Nous allons commencer par générer un jeu de données simple pour tester les différents algorithmes et méthodes.\n",
    "\n",
    "Pour cela, nous allons utiliser la fonction [make_blobs](https://scikit-learn.org/stable/modules/generated/sklearn.datasets.make_blobs.html) proposée par Scikit-Learn."
   ]
  },
  {
   "cell_type": "code",
   "execution_count": 21,
   "metadata": {},
   "outputs": [
    {
     "data": {
      "image/png": "[encoded data removed]",
      "text/plain": [
       "<Figure size 640x480 with 1 Axes>"
      ]
     },
     "metadata": {},
     "output_type": "display_data"
    }
   ],
   "source": [
    "import matplotlib.pyplot as plt\n",
    "from sklearn.datasets import make_blobs\n",
    "\n",
    "X, y = make_blobs(centers=2, cluster_std=0.5, random_state=0)\n",
    "\n",
    "plt.scatter(X[:, 0], X[:, 1], c=y)\n",
    "plt.title(\"Deux clusters construits via une distribution normale\")\n",
    "plt.show()"
   ]
  },
  {
   "cell_type": "code",
   "execution_count": 22,
   "metadata": {},
   "outputs": [
    {
     "data": {
      "text/plain": [
       "(array([[ 3.1368855 ,  1.56592763],\n",
       "        [ 1.4815332 ,  0.67875364],\n",
       "        [ 0.3498724 ,  4.69253251],\n",
       "        [ 0.5323772 ,  3.31338909],\n",
       "        [ 2.64928242,  1.05613497],\n",
       "        [ 1.2091013 ,  3.53566548],\n",
       "        [ 0.99914934,  4.2101954 ],\n",
       "        [ 3.01673853,  1.63792106],\n",
       "        [ 0.78260667,  4.15263595],\n",
       "        [ 1.65356269,  0.55288877],\n",
       "        [ 0.802314  ,  4.38196181],\n",
       "        [ 1.8706766 ,  0.77797407],\n",
       "        [ 1.08040757,  4.79210685],\n",
       "        [ 0.5226209 ,  4.32976003],\n",
       "        [ 1.92126584,  1.29889186],\n",
       "        [ 3.24683991,  1.3699034 ],\n",
       "        [ 2.61858548,  0.35769791],\n",
       "        [ 0.64003985,  4.12401075],\n",
       "        [ 1.39731382,  0.66687136],\n",
       "        [ 1.67030948,  1.16728826],\n",
       "        [ 1.05374379,  4.49286859],\n",
       "        [ 0.82049381,  4.33187   ],\n",
       "        [ 1.68548602,  1.66917096],\n",
       "        [ 0.39369516,  4.75420057],\n",
       "        [ 2.31690585,  0.81189049],\n",
       "        [ 0.92466065,  4.50908658],\n",
       "        [ 1.68289011,  0.48444439],\n",
       "        [ 0.98152009,  5.19672257],\n",
       "        [ 1.19820169,  4.47062449],\n",
       "        [ 2.20438661,  1.56085661],\n",
       "        [ 2.24348029,  0.34796326],\n",
       "        [ 1.00952869,  4.45502328],\n",
       "        [ 1.50307585,  0.9237462 ],\n",
       "        [ 2.25327088,  0.35113291],\n",
       "        [ 1.83769075,  1.82229552],\n",
       "        [ 1.56565986,  4.21382491],\n",
       "        [ 1.71810119,  0.91357894],\n",
       "        [ 2.02114672,  1.75433502],\n",
       "        [ 1.54597042,  3.68637442],\n",
       "        [ 1.30963873,  1.11735951],\n",
       "        [ 0.4519936 ,  3.59377836],\n",
       "        [ 1.74265969,  5.03846671],\n",
       "        [ 0.12313498,  5.27917503],\n",
       "        [ 1.1774409 ,  3.96138228],\n",
       "        [ 1.46870582,  1.86947425],\n",
       "        [ 2.13860427,  1.21517938],\n",
       "        [ 2.03562611,  0.31361691],\n",
       "        [ 1.87827057,  0.21018801],\n",
       "        [ 0.16117091,  4.53517846],\n",
       "        [ 0.77468161,  4.91500986],\n",
       "        [ 2.00604126,  0.56592452],\n",
       "        [ 1.40883907,  1.03118909],\n",
       "        [ 1.72039618,  5.25173192],\n",
       "        [ 1.15445328,  4.65707391],\n",
       "        [ 2.11114739,  3.57660449],\n",
       "        [ 1.03972612,  4.50478201],\n",
       "        [ 1.91784543,  3.6299078 ],\n",
       "        [ 1.82750127,  0.90640324],\n",
       "        [ 2.51569693,  1.05702749],\n",
       "        [ 2.36788325,  0.09663483],\n",
       "        [ 1.73734448,  1.23588031],\n",
       "        [ 1.45131429,  4.22810872],\n",
       "        [ 0.44089377,  4.83101319],\n",
       "        [ 2.3914149 ,  1.10139458],\n",
       "        [ 1.04829186,  5.03092408],\n",
       "        [ 1.8062513 ,  1.86242969],\n",
       "        [ 0.5408715 ,  4.0143625 ],\n",
       "        [ 1.91004907,  3.81514839],\n",
       "        [ 2.60509732,  1.22529553],\n",
       "        [ 1.40848818,  3.93270482],\n",
       "        [ 1.13280393,  3.87673946],\n",
       "        [ 1.84845803,  0.52393625],\n",
       "        [ 2.989047  ,  1.35068599],\n",
       "        [ 1.34081536,  4.36827878],\n",
       "        [ 0.56969694,  3.44064603],\n",
       "        [ 0.65910903,  4.12241674],\n",
       "        [ 1.5381461 ,  1.23846092],\n",
       "        [ 2.36230721,  1.358767  ],\n",
       "        [ 0.72144399,  4.08475018],\n",
       "        [ 0.96217896,  4.51795326],\n",
       "        [ 1.62465468,  1.85269614],\n",
       "        [ 1.06498315,  4.10289686],\n",
       "        [ 0.34102758,  4.78848568],\n",
       "        [ 1.35678894,  4.36462484],\n",
       "        [ 0.72086751,  3.71347124],\n",
       "        [ 0.5285368 ,  4.49723858],\n",
       "        [ 2.52889351,  0.82015861],\n",
       "        [ 1.59141542,  4.90497725],\n",
       "        [ 1.70798359,  0.82284639],\n",
       "        [ 2.34356293,  0.79351428],\n",
       "        [ 2.4411628 ,  1.30941574],\n",
       "        [ 2.48368283,  0.57215086],\n",
       "        [ 1.59885641,  1.4561718 ],\n",
       "        [ 1.55515985,  0.12527811],\n",
       "        [ 1.72330962,  4.2012082 ],\n",
       "        [-0.30022483,  4.63059663],\n",
       "        [ 1.73345832, -0.21403792],\n",
       "        [ 2.52997792,  0.94143928],\n",
       "        [ 0.16932115,  4.19741719],\n",
       "        [ 1.44254976,  1.31984515]]),\n",
       " array([1, 1, 0, 0, 1, 0, 0, 1, 0, 1, 0, 1, 0, 0, 1, 1, 1, 0, 1, 1, 0, 0,\n",
       "        1, 0, 1, 0, 1, 0, 0, 1, 1, 0, 1, 1, 1, 0, 1, 1, 0, 1, 0, 0, 0, 0,\n",
       "        1, 1, 1, 1, 0, 0, 1, 1, 0, 0, 0, 0, 0, 1, 1, 1, 1, 0, 0, 1, 0, 1,\n",
       "        0, 0, 1, 0, 0, 1, 1, 0, 0, 0, 1, 1, 0, 0, 1, 0, 0, 0, 0, 0, 1, 0,\n",
       "        1, 1, 1, 1, 1, 1, 0, 0, 1, 1, 0, 1]))"
      ]
     },
     "execution_count": 22,
     "metadata": {},
     "output_type": "execute_result"
    }
   ],
   "source": [
    "X, y"
   ]
  },
  {
   "cell_type": "markdown",
   "metadata": {},
   "source": [
    "Pour des raisons de tests, il est toujours bon de découper cet ensemble en deux avec `make_test_split`."
   ]
  },
  {
   "cell_type": "code",
   "execution_count": 23,
   "metadata": {},
   "outputs": [],
   "source": [
    "from sklearn.model_selection import train_test_split\n",
    "X_train, X_test, y_train, y_test = train_test_split(X, y, test_size=0.33, random_state=42)"
   ]
  },
  {
   "cell_type": "markdown",
   "metadata": {},
   "source": [
    "\n",
    "## 4. Construction d'un petit perceptron à une couche\n",
    "\n",
    "Pour faire des comparaisons de temps de calculs et d'écriture de code, nous allons commencer par coder un perceptron à une couche avec une sortie linéaire (pour commencer simplement).\n",
    "\n",
    "Pour rappel, la fonction de décision est la suivante,\n",
    "\n",
    "$$ h(x) = \\sigma(w^t x + b) $$\n",
    "\n",
    "avec $w \\in \\mathbb{R}^d$ un vecteur à inférer, $b \\in \\mathbb{R}$ un offset et $\\sigma$ la fonction de sortie.\n"
   ]
  },
  {
   "cell_type": "markdown",
   "metadata": {},
   "source": [
    "### 4.1. Commençons avec Numpy\n",
    "\n",
    "Écrivons la fonction et son gradient pour faire une simple descente de gradient."
   ]
  },
  {
   "cell_type": "code",
   "execution_count": 24,
   "metadata": {},
   "outputs": [],
   "source": [
    "def perceptron(x, w, b):\n",
    "    res = w.T @ x + b\n",
    "    return res"
   ]
  },
  {
   "cell_type": "code",
   "execution_count": 25,
   "metadata": {},
   "outputs": [],
   "source": [
    "def gradient(x, w, b):\n",
    "    return w"
   ]
  },
  {
   "cell_type": "markdown",
   "metadata": {},
   "source": [
    "Maintenant construisons une descente de gradient pour inférer $w$ avec une fonction de perte type $\\ell_2$. On cherche donc à résoudre le problème suivant,\n",
    "\n",
    "$$(P)\\qquad \\min_{w,b} \\sum_i \\tfrac{1}{2} \\|h(x_i) - y_i\\|^2 $$"
   ]
  },
  {
   "cell_type": "code",
   "execution_count": 26,
   "metadata": {},
   "outputs": [],
   "source": [
    "def compute_loss(X, y, w, b):\n",
    "    \"\"\"Fonction de perte L2.\"\"\"\n",
    "    predictions = X @ w + b\n",
    "    errors = predictions - y\n",
    "    loss = 0.5 * np.sum(errors ** 2)\n",
    "    return loss\n",
    "\n",
    "def compute_gradients(X, y, w, b):\n",
    "    \"\"\"Calcul des gradients de la perte par rapport à w et b.\"\"\"\n",
    "    predictions = X @ w + b\n",
    "    errors = predictions - y\n",
    "    grad_w = X.T @ errors\n",
    "    grad_b = np.sum(errors)\n",
    "    return grad_w, grad_b\n",
    "\n",
    "def gradient_descent(X, y, w_init, b_init, learning_rate, num_iterations):\n",
    "    \"\"\"Descente de gradient pour minimiser la perte L2.\"\"\"\n",
    "    w = w_init\n",
    "    b = b_init\n",
    "    for i in range(num_iterations):\n",
    "        grad_w, grad_b = compute_gradients(X, y, w, b)\n",
    "        \n",
    "        # Mise à jour des paramètres\n",
    "        w -= learning_rate * grad_w\n",
    "        b -= learning_rate * grad_b\n",
    "\n",
    "        # Affichage de la perte toutes les 100 itérations\n",
    "        if i % 100 == 0:\n",
    "            loss = compute_loss(X, y, w, b)\n",
    "            print(f\"Iteration {i}: Loss = {loss}\")\n",
    "\n",
    "    return w, b"
   ]
  },
  {
   "cell_type": "markdown",
   "metadata": {},
   "source": [
    "Testons le code."
   ]
  },
  {
   "cell_type": "code",
   "execution_count": null,
   "metadata": {},
   "outputs": [
    {
     "name": "stdout",
     "output_type": "stream",
     "text": [
      "Iteration 0: Loss = 2561.067211220639\n",
      "Iteration 100: Loss = 1.3670401454368272e+212\n",
      "Iteration 200: Loss = inf\n",
      "Iteration 300: Loss = nan\n",
      "Iteration 400: Loss = nan\n",
      "Iteration 500: Loss = nan\n",
      "Iteration 600: Loss = nan\n",
      "Iteration 700: Loss = nan\n",
      "Iteration 800: Loss = nan\n",
      "Iteration 900: Loss = nan\n"
     ]
    },
    {
     "name": "stderr",
     "output_type": "stream",
     "text": [
      "C:\\Users\\bausm\\AppData\\Local\\Temp\\ipykernel_22744\\1544910749.py:5: RuntimeWarning: overflow encountered in square\n",
      "  loss = 0.5 * np.sum(errors ** 2)\n",
      "C:\\Users\\bausm\\AppData\\Local\\Temp\\ipykernel_22744\\1544910749.py:12: RuntimeWarning: overflow encountered in matmul\n",
      "  grad_w = X.T @ errors\n",
      "c:\\Users\\bausm\\AppData\\Local\\Programs\\Python\\Python312\\Lib\\site-packages\\numpy\\core\\fromnumeric.py:88: RuntimeWarning: overflow encountered in reduce\n",
      "  return ufunc.reduce(obj, axis, dtype, out, **passkwargs)\n",
      "C:\\Users\\bausm\\AppData\\Local\\Temp\\ipykernel_22744\\1544910749.py:10: RuntimeWarning: invalid value encountered in matmul\n",
      "  predictions = X @ w + b\n"
     ]
    }
   ],
   "source": [
    "w_init = np.zeros(2,)\n",
    "b_init = 1.0\n",
    "learning_rate = 0.01\n",
    "num_iterations = 1000\n",
    "\n",
    "# Optimisation\n",
    "w_opt, b_opt = gradient_descent(X, y, w_init, b_init, learning_rate, num_iterations)\n",
    "\n"
   ]
  },
  {
   "cell_type": "markdown",
   "metadata": {},
   "source": [
    "### 4.2 Utilisation du calcul automatique du gradient\n",
    "\n",
    "Maintenant nous allons passer par la fonction `grad` pour calculer automatiquement le gradient"
   ]
  },
  {
   "cell_type": "code",
   "execution_count": 31,
   "metadata": {},
   "outputs": [
    {
     "name": "stdout",
     "output_type": "stream",
     "text": [
      "Iteration 0: Loss = 2561.0673828125\n",
      "Iteration 100: Loss = nan\n",
      "Iteration 200: Loss = nan\n",
      "Iteration 300: Loss = nan\n",
      "Iteration 400: Loss = nan\n",
      "Iteration 500: Loss = nan\n",
      "Iteration 600: Loss = nan\n",
      "Iteration 700: Loss = nan\n",
      "Iteration 800: Loss = nan\n",
      "Iteration 900: Loss = nan\n"
     ]
    }
   ],
   "source": [
    "def loss_function(w, b, X, y):\n",
    "    \"\"\"Fonction de perte L2.\"\"\"\n",
    "    predictions = jnp.dot(X, w) + b\n",
    "    errors = predictions - y\n",
    "    loss = 0.5 * jnp.sum(errors ** 2)\n",
    "    return loss\n",
    "\n",
    "# Gradient automatique avec JAX\n",
    "loss_grad = jax.grad(loss_function, argnums=(0, 1))\n",
    "\n",
    "def gradient_descent(X, y, w_init, b_init, learning_rate, num_iterations):\n",
    "    \"\"\"Descente de gradient avec JAX.\"\"\"\n",
    "    w, b = w_init, b_init\n",
    "\n",
    "    for i in range(num_iterations):\n",
    "        grad_w, grad_b = loss_grad(w, b, X, y)\n",
    "\n",
    "        # Mise à jour des paramètres\n",
    "        w -= learning_rate * grad_w\n",
    "        b -= learning_rate * grad_b\n",
    "\n",
    "        # Affichage de la perte toutes les 100 itérations\n",
    "        if i % 100 == 0:\n",
    "            loss = loss_function(w, b, X, y)\n",
    "            print(f\"Iteration {i}: Loss = {loss}\")\n",
    "\n",
    "    return w, b\n",
    "\n",
    "\n",
    "w_init = np.zeros(2,)\n",
    "b_init = 1.0\n",
    "learning_rate = 0.01\n",
    "num_iterations = 1000\n",
    "\n",
    "# Optimisation\n",
    "w_opt, b_opt = gradient_descent(X, y, w_init, b_init, learning_rate, num_iterations)"
   ]
  },
  {
   "cell_type": "markdown",
   "metadata": {},
   "source": [
    "Comparer les temps de calculs."
   ]
  },
  {
   "cell_type": "code",
   "execution_count": null,
   "metadata": {},
   "outputs": [],
   "source": [
    "# A faire"
   ]
  },
  {
   "cell_type": "markdown",
   "metadata": {},
   "source": [
    "Nous pouvons en profiter pour prendre la sigmoid pour $\\sigma$."
   ]
  },
  {
   "cell_type": "code",
   "execution_count": null,
   "metadata": {},
   "outputs": [],
   "source": [
    "def perceptron_sigmoid(x, w, b):\n",
    "    res = w.T @ x + b\n",
    "    # A compléter\n",
    "    return res"
   ]
  },
  {
   "cell_type": "markdown",
   "metadata": {},
   "source": [
    "Refaire les calculs précédent."
   ]
  },
  {
   "cell_type": "code",
   "execution_count": null,
   "metadata": {},
   "outputs": [],
   "source": [
    "# A faire"
   ]
  },
  {
   "cell_type": "markdown",
   "metadata": {},
   "source": [
    "### 4.3 Accélération avec JIT\n",
    "\n",
    "Maintenant nous pouvons tester le JIT en améliorant le perceptron. Que constatons-nous au niveau du temps de calculs ?\n",
    "\n",
    "**Remarque :** il peut être nécessaire d'augmenter la taille du jeu de données pour voir une vraie différence !"
   ]
  },
  {
   "cell_type": "code",
   "execution_count": null,
   "metadata": {},
   "outputs": [],
   "source": [
    "# A faire"
   ]
  },
  {
   "cell_type": "markdown",
   "metadata": {},
   "source": [
    "## 5. Perceptron à deux couches\n",
    "\n",
    "Maintenant que nous avons un cadre pour calculer facilement des gradients avec des accélérateurs. Nous pouvons augmenter la complexité du modèle et ajouter une couche.\n",
    "\n",
    "Pour rappel, la fonction de décision devient alors la suivante,\n",
    "\n",
    "$$ h(x) = \\sigma_1(w_1^t \\sigma_2 (w_2^t x + b_2) + b_1) $$\n",
    "\n",
    "### 5.1 Optimisation manuelle\n",
    "\n",
    "Commençons par écrire la nouvelle fonction objectif."
   ]
  },
  {
   "cell_type": "code",
   "execution_count": null,
   "metadata": {},
   "outputs": [],
   "source": [
    "# A faire"
   ]
  },
  {
   "cell_type": "markdown",
   "metadata": {},
   "source": [
    "Optimisons avec la boucle précédente"
   ]
  },
  {
   "cell_type": "code",
   "execution_count": null,
   "metadata": {},
   "outputs": [],
   "source": [
    "# A faire"
   ]
  },
  {
   "cell_type": "markdown",
   "metadata": {},
   "source": [
    "### 5.2 Optimisation via Optax\n",
    "\n",
    "Optax propose un ensemble de méthode d'optimisation. Essayons de résoudre le problème précédent avec une descente de gradient stochastique (SGD)."
   ]
  },
  {
   "cell_type": "code",
   "execution_count": null,
   "metadata": {},
   "outputs": [],
   "source": [
    "# A faire"
   ]
  },
  {
   "cell_type": "markdown",
   "metadata": {},
   "source": [
    "## 6. Flax (pour les plus rapides)\n",
    "\n",
    "Flax propose un cadre pour construire des réseaux de neurones. Utiliser ce cadre pour refaire le perceptron à deux couches et son apprentissage."
   ]
  },
  {
   "cell_type": "code",
   "execution_count": null,
   "metadata": {},
   "outputs": [],
   "source": [
    "# Bonne chance"
   ]
  }
 ],
 "metadata": {
  "celltoolbar": "Slideshow",
  "kernelspec": {
   "display_name": "Python 3",
   "language": "python",
   "name": "python3"
  },
  "language_info": {
   "codemirror_mode": {
    "name": "ipython",
    "version": 3
   },
   "file_extension": ".py",
   "mimetype": "text/x-python",
   "name": "python",
   "nbconvert_exporter": "python",
   "pygments_lexer": "ipython3",
   "version": "3.12.1"
  }
 },
 "nbformat": 4,
 "nbformat_minor": 4
}
