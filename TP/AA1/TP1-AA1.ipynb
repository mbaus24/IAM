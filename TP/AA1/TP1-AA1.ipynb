{
 "cells": [
  {
   "cell_type": "code",
   "execution_count": 22,
   "metadata": {},
   "outputs": [],
   "source": [
    "import numpy as np\n",
    "from sklearn.model_selection import train_test_split\n",
    "import sklearn"
   ]
  },
  {
   "cell_type": "code",
   "execution_count": 2,
   "metadata": {},
   "outputs": [],
   "source": [
    "from sklearn.datasets import load_wine"
   ]
  },
  {
   "cell_type": "code",
   "execution_count": 38,
   "metadata": {},
   "outputs": [],
   "source": [
    "from sklearn.neighbors import KNeighborsClassifier\n",
    "clf_N = KNeighborsClassifier(n_neighbors=5)\n"
   ]
  },
  {
   "cell_type": "code",
   "execution_count": 37,
   "metadata": {},
   "outputs": [],
   "source": [
    "from sklearn import tree\n",
    "clf_T = tree.DecisionTreeClassifier()"
   ]
  },
  {
   "cell_type": "code",
   "execution_count": 36,
   "metadata": {},
   "outputs": [],
   "source": [
    "from sklearn.svm import SVC\n",
    "clf_S = SVC(kernel=\"linear\")"
   ]
  },
  {
   "cell_type": "code",
   "execution_count": null,
   "metadata": {},
   "outputs": [],
   "source": [
    "#def warn()"
   ]
  },
  {
   "cell_type": "code",
   "execution_count": 55,
   "metadata": {},
   "outputs": [
    {
     "data": {
      "text/plain": [
       "0.9583333333333334"
      ]
     },
     "execution_count": 55,
     "metadata": {},
     "output_type": "execute_result"
    }
   ],
   "source": [
    "X, y = load_wine(return_X_y=True)\n",
    "X.shape\n",
    "X_train, X_test, y_train, y_test = train_test_split(X, y, test_size=0.4, random_state=0)\n",
    "X_train.shape, y_train.shape\n",
    "clf = sklearn.svm.SVC(kernel='linear', C=1).fit(X_train, y_train)\n",
    "clf.score(X_test, y_test)"
   ]
  },
  {
   "cell_type": "code",
   "execution_count": 58,
   "metadata": {},
   "outputs": [
    {
     "name": "stdout",
     "output_type": "stream",
     "text": [
      "SVM\n",
      "\u001b[7m\u001b[32mbest params : \u001b[0m {'C': 1, 'gamma': 'scale', 'kernel': 'linear'}\n",
      "\u001b[34mbest score : \u001b[0m 0.9678362573099415\n",
      "\u001b[31mscore : \u001b[0m 0.9166666666666666\n",
      "\n",
      "\u001b[7m\u001b[32mbest params : \u001b[0m {'C': 1, 'gamma': 'scale', 'kernel': 'linear'}\n",
      "\u001b[34mbest score : \u001b[0m 0.9473684210526315\n",
      "\u001b[31mscore : \u001b[0m 0.9305555555555556\n",
      "\n",
      "\u001b[7m\u001b[32mbest params : \u001b[0m {'C': 1, 'gamma': 'scale', 'kernel': 'linear'}\n",
      "\u001b[34mbest score : \u001b[0m 0.9257309941520468\n",
      "\u001b[31mscore : \u001b[0m 0.9583333333333334\n",
      "\n",
      "\u001b[7m\u001b[32mbest params : \u001b[0m {'C': 1, 'gamma': 'scale', 'kernel': 'linear'}\n",
      "\u001b[34mbest score : \u001b[0m 0.9573099415204679\n",
      "\u001b[31mscore : \u001b[0m 0.9583333333333334\n",
      "\n",
      "\u001b[7m\u001b[32mbest params : \u001b[0m {'C': 0.1, 'gamma': 'auto', 'kernel': 'poly'}\n",
      "\u001b[34mbest score : \u001b[0m 0.9573099415204679\n",
      "\u001b[31mscore : \u001b[0m 0.9444444444444444\n",
      "\n",
      "\u001b[7m\u001b[32mbest params : \u001b[0m {'C': 10, 'gamma': 'scale', 'kernel': 'linear'}\n",
      "\u001b[34mbest score : \u001b[0m 0.9257309941520468\n",
      "\u001b[31mscore : \u001b[0m 0.9305555555555556\n",
      "\n",
      "\u001b[7m\u001b[32mbest params : \u001b[0m {'C': 1, 'gamma': 'scale', 'kernel': 'linear'}\n",
      "\u001b[34mbest score : \u001b[0m 0.9467836257309941\n",
      "\u001b[31mscore : \u001b[0m 0.9583333333333334\n",
      "\n",
      "\u001b[7m\u001b[32mbest params : \u001b[0m {'C': 0.1, 'gamma': 'auto', 'kernel': 'poly'}\n",
      "\u001b[34mbest score : \u001b[0m 0.9362573099415205\n",
      "\u001b[31mscore : \u001b[0m 0.9444444444444444\n",
      "\n",
      "----------------------------\n",
      "KNN\n",
      "\u001b[7m\u001b[32mbest params : \u001b[0m {'n_neighbors': 1}\n",
      "\u001b[34mbest score : \u001b[0m 0.7514619883040936\n",
      "\u001b[31mscore : \u001b[0m 0.75\n",
      "\n",
      "\u001b[7m\u001b[32mbest params : \u001b[0m {'n_neighbors': 2}\n",
      "\u001b[34mbest score : \u001b[0m 0.6859649122807017\n",
      "\u001b[31mscore : \u001b[0m 0.6666666666666666\n",
      "\n",
      "\u001b[7m\u001b[32mbest params : \u001b[0m {'weights': 'distance'}\n",
      "\u001b[34mbest score : \u001b[0m 0.7842105263157895\n",
      "\u001b[31mscore : \u001b[0m 0.7222222222222222\n",
      "\n",
      "\u001b[7m\u001b[32mbest params : \u001b[0m {'n_neighbors': 9}\n",
      "\u001b[34mbest score : \u001b[0m 0.7631578947368421\n",
      "\u001b[31mscore : \u001b[0m 0.6944444444444444\n",
      "\n",
      "\u001b[7m\u001b[32mbest params : \u001b[0m {'n_neighbors': 1}\n",
      "\u001b[34mbest score : \u001b[0m 0.7087719298245614\n",
      "\u001b[31mscore : \u001b[0m 0.75\n",
      "\n",
      "\u001b[7m\u001b[32mbest params : \u001b[0m {'n_neighbors': 3}\n",
      "\u001b[34mbest score : \u001b[0m 0.7526315789473684\n",
      "\u001b[31mscore : \u001b[0m 0.6666666666666666\n",
      "\n",
      "\u001b[7m\u001b[32mbest params : \u001b[0m {'weights': 'distance'}\n",
      "\u001b[34mbest score : \u001b[0m 0.7321637426900585\n",
      "\u001b[31mscore : \u001b[0m 0.6944444444444444\n",
      "\n",
      "\u001b[7m\u001b[32mbest params : \u001b[0m {'n_neighbors': 2}\n",
      "\u001b[34mbest score : \u001b[0m 0.7543859649122806\n",
      "\u001b[31mscore : \u001b[0m 0.6944444444444444\n",
      "\n",
      "----------------------------\n",
      "Decision Tree\n",
      "\u001b[7m\u001b[32mbest params : \u001b[0m {'max_depth': 9, 'splitter': 'random'}\n",
      "\u001b[34mbest score : \u001b[0m 0.9456140350877191\n",
      "\u001b[31mscore : \u001b[0m 0.9027777777777778\n",
      "\n",
      "\u001b[7m\u001b[32mbest params : \u001b[0m {'max_depth': 5, 'splitter': 'random'}\n",
      "\u001b[34mbest score : \u001b[0m 0.9350877192982455\n",
      "\u001b[31mscore : \u001b[0m 0.8611111111111112\n",
      "\n",
      "\u001b[7m\u001b[32mbest params : \u001b[0m {'max_depth': 6, 'splitter': 'random'}\n",
      "\u001b[34mbest score : \u001b[0m 0.9461988304093566\n",
      "\u001b[31mscore : \u001b[0m 0.9305555555555556\n",
      "\n",
      "\u001b[7m\u001b[32mbest params : \u001b[0m {'max_depth': 6, 'splitter': 'random'}\n",
      "\u001b[34mbest score : \u001b[0m 0.9456140350877191\n",
      "\u001b[31mscore : \u001b[0m 0.8611111111111112\n",
      "\n",
      "\u001b[7m\u001b[32mbest params : \u001b[0m {'max_depth': 9, 'splitter': 'random'}\n",
      "\u001b[34mbest score : \u001b[0m 0.9456140350877194\n",
      "\u001b[31mscore : \u001b[0m 0.9027777777777778\n",
      "\n",
      "\u001b[7m\u001b[32mbest params : \u001b[0m {'criterion': 'entropy'}\n",
      "\u001b[34mbest score : \u001b[0m 0.9140350877192983\n",
      "\u001b[31mscore : \u001b[0m 0.9583333333333334\n",
      "\n",
      "\u001b[7m\u001b[32mbest params : \u001b[0m {'max_depth': 5, 'splitter': 'best'}\n",
      "\u001b[34mbest score : \u001b[0m 0.9567251461988304\n",
      "\u001b[31mscore : \u001b[0m 0.8611111111111112\n",
      "\n",
      "\u001b[7m\u001b[32mbest params : \u001b[0m {'max_depth': 9, 'splitter': 'random'}\n",
      "\u001b[34mbest score : \u001b[0m 0.9678362573099415\n",
      "\u001b[31mscore : \u001b[0m 0.9166666666666666\n",
      "\n"
     ]
    }
   ],
   "source": [
    "from termcolor import colored\n",
    "\n",
    "def compute_score(clf, params, X_train, Y_train, X_test, Y_test, cv):\n",
    "  \"\"\"permet de train le meilleur classifieur en utilisant la validation croisée, on utilise KFold et GridSearchCV\"\"\"\n",
    "  g = sklearn.model_selection.GridSearchCV(clf, params)\n",
    "  Kfold = sklearn.model_selection.KFold(cv, shuffle=True)\n",
    "  for train, test in Kfold.split(X_train):\n",
    "    g.fit(X_train[train], Y_train[train])\n",
    "    print(colored(\"best params : \", 'green'   ,attrs=[\"reverse\"]), g.best_params_)\n",
    "    print(colored(\"best score : \", 'blue'), g.best_score_)\n",
    "    \n",
    "    print(colored(\"score : \", 'red'), g.score(X_test, Y_test))\n",
    "    print(\"\")\n",
    "\n",
    "# svm\n",
    "print(\"SVM\")\n",
    "params_S = [\n",
    "  {'C': [0.1, 1, 10, 100, 1000], 'kernel': ['linear', 'rbf', 'poly', 'sigmoid'], 'gamma': ['scale', 'auto']},\n",
    "\n",
    "]\n",
    "compute_score(clf_S, params_S, X_train, y_train, X_test, y_test, 8)\n",
    "print(\"----------------------------\")\n",
    "print(\"KNN\")\n",
    "# neighbours\n",
    "params_N = [{'n_neighbors': [1, 2, 3, 4, 5, 6, 7, 8, 9, 10]}, {'weights': ['uniform', 'distance']}]\n",
    "compute_score(clf_N, params_N, X_train, y_train, X_test, y_test, 8)\n",
    "print(\"----------------------------\")\n",
    "print(\"Decision Tree\")\n",
    "# tree\n",
    "params_T = [\n",
    "  {'criterion': ['gini', 'entropy']}, {'splitter': ['best', 'random'], 'max_depth': [None, 1, 2, 3, 4, 5, 6, 7, 8, 9, 10]},\n",
    "]\n",
    "compute_score(clf_T, params_T, X_train, y_train, X_test, y_test, 8)\n"
   ]
  }
 ],
 "metadata": {
  "kernelspec": {
   "display_name": "Python 3",
   "language": "python",
   "name": "python3"
  },
  "language_info": {
   "codemirror_mode": {
    "name": "ipython",
    "version": 3
   },
   "file_extension": ".py",
   "mimetype": "text/x-python",
   "name": "python",
   "nbconvert_exporter": "python",
   "pygments_lexer": "ipython3",
   "version": "3.12.1"
  }
 },
 "nbformat": 4,
 "nbformat_minor": 2
}
