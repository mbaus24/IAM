{
 "cells": [
  {
   "cell_type": "code",
   "execution_count": 2,
   "metadata": {},
   "outputs": [
    {
     "name": "stdout",
     "output_type": "stream",
     "text": [
      "Testing the ISTA algorithm on a simple example...\n",
      "Error: 0.01934425384137391\n",
      "Residual: 1.1074689472201342\n",
      "Done.\n"
     ]
    }
   ],
   "source": [
    "\n",
    "import numpy as np\n",
    "from numpy.linalg import norm\n",
    "from scipy.linalg import circulant\n",
    "from scipy.ndimage import gaussian_filter, convolve1d\n",
    "\n",
    "\n",
    "def get_gaussian_filter(std, filter_len):\n",
    "    x = np.zeros(filter_len)\n",
    "    x[0] = 1\n",
    "    h = gaussian_filter(x, sigma=std, mode='wrap')\n",
    "    return convolve1d(h, x, mode='wrap')\n",
    "\n",
    "\n",
    "def filter2matrix(h):\n",
    "    h_shift = np.concatenate((h[len(h)//2:], h[:len(h)//2]))\n",
    "    return circulant(h_shift)\n",
    "\n",
    "\n",
    "def convolve(x, h):\n",
    "    return convolve1d(x, h, mode='wrap')\n",
    "\n",
    "def add_noise(x, snr):\n",
    "    noise = np.random.randn(x.size)\n",
    "    return x + 10 ** (-snr / 20) * norm(x) / norm(noise) * noise\n",
    "    \n",
    "\n",
    "def compute_snr(x_true, x_noisy):\n",
    "    return 20 * np.log10(norm(x_true) / norm(x_true - x_noisy))\n",
    "\n",
    "\n",
    "def soft_thresholding(x, tau):\n",
    "    return np.sign(x) * np.maximum(np.abs(x) - tau, 0)\n",
    "\n",
    "\n",
    "def ista_l1(f, grad_f, x0, step_size, alpha, n_iterations, return_iterates):\n",
    "    x = x0.copy()\n",
    "    residuals = []\n",
    "    for _ in range(n_iterations):\n",
    "        x = soft_thresholding(x - step_size * grad_f(x), alpha * step_size)\n",
    "        residuals.append(f(x))\n",
    "    if return_iterates:\n",
    "        return x, residuals\n",
    "    else:\n",
    "        return x\n",
    "\n",
    "\n",
    "\n",
    "\n",
    "print('Testing the ISTA algorithm on a simple example...')\n",
    "np.random.seed(0)\n",
    "n = 100\n",
    "m = 256\n",
    "k = 10\n",
    "A = np.random.randn(m, n)\n",
    "x_true = np.zeros(n)\n",
    "\n",
    "selected = np.random.choice(n, k, replace=False)\n",
    "\n",
    "\n",
    "x_true[selected] = np.random.randn(k)\n",
    "sigma = 1e-1\n",
    "b = A.dot(x_true) + sigma * np.random.randn(m)\n",
    "L = norm(A, ord=2) ** 2\n",
    "x0 = np.zeros(n)\n",
    "step_size = 1 / L\n",
    "alpha = 1\n",
    "\n",
    "f = lambda x: 0.5 * norm(A.dot(x) - b) ** 2\n",
    "grad_f = lambda x: A.T.dot(A.dot(x) - b)\n",
    "\n",
    "x_hat, residuals = ista_l1(f, grad_f, x0, step_size, alpha, 1000, True)\n",
    "print('Error: {}'.format(norm(x_hat - x_true) / norm(x_true)))\n",
    "print('Residual: {}'.format(residuals[-1]))\n",
    "print('Done.')\n",
    "\n",
    "\n",
    "\n"
   ]
  },
  {
   "cell_type": "code",
   "execution_count": null,
   "metadata": {},
   "outputs": [],
   "source": []
  }
 ],
 "metadata": {
  "kernelspec": {
   "display_name": "Python 3",
   "language": "python",
   "name": "python3"
  },
  "language_info": {
   "codemirror_mode": {
    "name": "ipython",
    "version": 3
   },
   "file_extension": ".py",
   "mimetype": "text/x-python",
   "name": "python",
   "nbconvert_exporter": "python",
   "pygments_lexer": "ipython3",
   "version": "3.12.1"
  }
 },
 "nbformat": 4,
 "nbformat_minor": 2
}
