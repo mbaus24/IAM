{
 "cells": [
  {
   "cell_type": "code",
   "execution_count": 1,
   "id": "31c6ba7e",
   "metadata": {},
   "outputs": [],
   "source": [
    "import numpy as np\n",
    "from scipy.sparse.linalg import LinearOperator\n",
    "import matplotlib.pyplot as plt"
   ]
  },
  {
   "cell_type": "markdown",
   "id": "512f1e0f",
   "metadata": {},
   "source": [
    "# Opérateur d'inpainting / masquage"
   ]
  },
  {
   "cell_type": "code",
   "execution_count": 2,
   "id": "9fefa9fc",
   "metadata": {},
   "outputs": [
    {
     "name": "stdout",
     "output_type": "stream",
     "text": [
      "A= [[1 0 0 0 0 0]\n",
      " [0 0 1 0 0 0]\n",
      " [0 0 0 0 0 1]]\n"
     ]
    }
   ],
   "source": [
    "M = 6\n",
    "my_mask = np.array([True, False, True, False, False, True])\n",
    "A = np.eye(M, dtype=int)[my_mask, :]\n",
    "print('A=', A)"
   ]
  },
  {
   "cell_type": "code",
   "execution_count": 3,
   "id": "286459e4",
   "metadata": {},
   "outputs": [
    {
     "name": "stdout",
     "output_type": "stream",
     "text": [
      "x= [0 1 2 3 4 5]\n",
      "Ax= [0 2 5] = [0 2 5]\n"
     ]
    }
   ],
   "source": [
    "x = np.arange(M)\n",
    "print('x=', x)\n",
    "print('Ax=', A@x, '=', x[my_mask])"
   ]
  },
  {
   "cell_type": "code",
   "execution_count": 4,
   "id": "af039b4c",
   "metadata": {},
   "outputs": [],
   "source": [
    "class MaskOperator(LinearOperator):\n",
    "    def __init__(self, mask, dtype):\n",
    "        shape = (np.count_nonzero(mask), mask.size)\n",
    "        LinearOperator.__init__(self, dtype=dtype, shape=shape)\n",
    "        self.mask = mask\n",
    "    \n",
    "    def _matvec(self, x):\n",
    "        return x[self.mask]\n",
    "    \n",
    "    def _rmatvec(self, y):\n",
    "        x = np.zeros(self.mask.shape, dtype=self.dtype)\n",
    "        x[self.mask] = y\n",
    "        return x"
   ]
  },
  {
   "cell_type": "code",
   "execution_count": 5,
   "id": "32351447",
   "metadata": {},
   "outputs": [
    {
     "name": "stdout",
     "output_type": "stream",
     "text": [
      "[0 2 5]\n",
      "[4 0 5 0 0 6]\n"
     ]
    }
   ],
   "source": [
    "A_op = MaskOperator(mask=my_mask, dtype=int)\n",
    "print(A_op @ x)\n",
    "print(A_op.T @ np.array([4,5,6]))"
   ]
  },
  {
   "cell_type": "code",
   "execution_count": 6,
   "id": "15fac41c",
   "metadata": {},
   "outputs": [
    {
     "name": "stdout",
     "output_type": "stream",
     "text": [
      "0.0e+00, -1.607054139381823, -1.607054139381823\n",
      "0.0e+00, 2.9722307383880637, 2.9722307383880637\n",
      "0.0e+00, 0.2740228128280156, 0.2740228128280156\n",
      "0.0e+00, -0.8647129018802773, -0.8647129018802773\n",
      "0.0e+00, 1.1726685780602948, 1.1726685780602948\n",
      "0.0e+00, 1.490003872300991, 1.490003872300991\n",
      "0.0e+00, -0.004743177763543617, -0.004743177763543617\n",
      "0.0e+00, 1.1118740491405366, 1.1118740491405366\n",
      "0.0e+00, -2.853160736823568, -2.853160736823568\n",
      "0.0e+00, 0.5547802693319382, 0.5547802693319382\n",
      "0.0e+00, -2.9980658353529823, -2.9980658353529823\n",
      "0.0e+00, -1.396759658852035, -1.396759658852035\n",
      "0.0e+00, 3.1418206313118504, 3.1418206313118504\n",
      "0.0e+00, 0.8998098457433688, 0.8998098457433688\n",
      "0.0e+00, -1.904106871583596, -1.904106871583596\n",
      "0.0e+00, -1.6600427171173033, -1.6600427171173033\n",
      "0.0e+00, 0.9569745180842906, 0.9569745180842906\n",
      "0.0e+00, 1.4978773242904684, 1.4978773242904684\n",
      "0.0e+00, -0.8560581944516608, -0.8560581944516608\n",
      "0.0e+00, 1.8790905546594714, 1.8790905546594714\n"
     ]
    }
   ],
   "source": [
    "# Vérification de la propriété de l'adjoint\n",
    "A_op = MaskOperator(mask=my_mask, dtype=float)\n",
    "for _ in range(20):\n",
    "    x = np.random.randn(A_op.shape[1])\n",
    "    y = np.random.randn(A_op.shape[0])\n",
    "    p1 = np.vdot(A_op @ x, y)\n",
    "    p2 = np.vdot(x, A_op.T @ y)\n",
    "    print(f'{p1-p2:.1e}, {p1}, {p2}')"
   ]
  },
  {
   "cell_type": "markdown",
   "id": "055909eb",
   "metadata": {},
   "source": [
    "# Opérateur de convolution"
   ]
  },
  {
   "cell_type": "code",
   "execution_count": 7,
   "id": "59ebcbaf",
   "metadata": {},
   "outputs": [
    {
     "name": "stdout",
     "output_type": "stream",
     "text": [
      "A= [[-3 -4  1 -9  2 -9 -4  3 -1 -1]\n",
      " [-1 -3 -4  1 -9  2 -9 -4  3 -1]\n",
      " [-1 -1 -3 -4  1 -9  2 -9 -4  3]\n",
      " [ 3 -1 -1 -3 -4  1 -9  2 -9 -4]\n",
      " [-4  3 -1 -1 -3 -4  1 -9  2 -9]\n",
      " [-9 -4  3 -1 -1 -3 -4  1 -9  2]\n",
      " [ 2 -9 -4  3 -1 -1 -3 -4  1 -9]\n",
      " [-9  2 -9 -4  3 -1 -1 -3 -4  1]\n",
      " [ 1 -9  2 -9 -4  3 -1 -1 -3 -4]\n",
      " [-4  1 -9  2 -9 -4  3 -1 -1 -3]]\n"
     ]
    }
   ],
   "source": [
    "from scipy.linalg import circulant\n",
    "from scipy.ndimage import convolve1d\n",
    "\n",
    "N = 10\n",
    "h = np.random.randint(low=-9, high=9, size=N)\n",
    "A = circulant(np.concatenate((h[len(h)//2:], h[:len(h)//2])))\n",
    "print('A=', A)"
   ]
  },
  {
   "cell_type": "code",
   "execution_count": 8,
   "id": "ed1bf931",
   "metadata": {},
   "outputs": [
    {
     "name": "stdout",
     "output_type": "stream",
     "text": [
      "x= [0 1 2 3 4 5 6 7 8 9]\n",
      "Ax= [ -86 -101 -116 -171 -156  -91 -136  -71 -106  -91] = [ -86 -101 -116 -171 -156  -91 -136  -71 -106  -91]\n"
     ]
    }
   ],
   "source": [
    "x = np.arange(N)\n",
    "print('x=', x)\n",
    "print('Ax=', A@x, '=', convolve1d(x, h, mode='wrap'))"
   ]
  },
  {
   "cell_type": "code",
   "execution_count": 9,
   "id": "4462f467",
   "metadata": {},
   "outputs": [],
   "source": [
    "class ConvOperator(LinearOperator):\n",
    "    def __init__(self, h):\n",
    "        LinearOperator.__init__(self, dtype=h.dtype, shape=(h.size, h.size))\n",
    "        self.h = h\n",
    "\n",
    "        if h.size % 2:\n",
    "            h_adjoint = h[::-1]\n",
    "        else:\n",
    "            h_adjoint = np.zeros_like(h)\n",
    "            h_adjoint[0] = h[0]\n",
    "            h_adjoint[1:] = h[-1:0:-1]\n",
    "        self.h_adjoint = h_adjoint\n",
    "    \n",
    "    def _matvec(self, x):\n",
    "        return convolve1d(x, self.h, mode='wrap')\n",
    "    \n",
    "    def _rmatvec(self, y):\n",
    "        return convolve1d(y, self.h_adjoint, mode='wrap')"
   ]
  },
  {
   "cell_type": "code",
   "execution_count": 10,
   "id": "a9c662bd",
   "metadata": {},
   "outputs": [
    {
     "name": "stdout",
     "output_type": "stream",
     "text": [
      "[ -86 -101 -116 -171 -156  -91 -136  -71 -106  -91]\n"
     ]
    }
   ],
   "source": [
    "A_op = ConvOperator(h=h)\n",
    "print(A_op @ x)"
   ]
  },
  {
   "cell_type": "code",
   "execution_count": 11,
   "id": "ba8fd625",
   "metadata": {},
   "outputs": [
    {
     "name": "stdout",
     "output_type": "stream",
     "text": [
      "N = 8\n",
      "1.8e-15, 5.106236081532656, 5.106236081532654\n",
      "-4.4e-16, -3.6991221378480765, -3.699122137848076\n",
      "-2.2e-16, -1.6744224621049413, -1.674422462104941\n",
      "-1.1e-16, 0.8613325622775502, 0.8613325622775503\n",
      "0.0e+00, 7.182364123458639, 7.182364123458639\n",
      "0.0e+00, -5.441325946519644, -5.441325946519644\n",
      "7.8e-16, 0.5846239584437367, 0.5846239584437359\n",
      "0.0e+00, 2.768337181883358, 2.768337181883358\n",
      "0.0e+00, 0.46811511384278165, 0.46811511384278165\n",
      "0.0e+00, 7.260503266971265, 7.260503266971265\n",
      "-5.6e-16, -0.9099918632056611, -0.9099918632056605\n",
      "0.0e+00, 2.2292563398806857, 2.2292563398806857\n",
      "0.0e+00, -4.712088730702972, -4.712088730702972\n",
      "5.6e-17, 0.46967986426196356, 0.4696798642619635\n",
      "6.7e-16, 0.9508913157427731, 0.9508913157427724\n",
      "2.2e-16, -1.0198930982054615, -1.0198930982054617\n",
      "8.9e-16, -1.9638121618589055, -1.9638121618589064\n",
      "-1.8e-15, -9.999165938738415, -9.999165938738413\n",
      "0.0e+00, 1.1526880045870582, 1.1526880045870582\n",
      "-4.4e-16, 2.7289090688909763, 2.7289090688909767\n",
      "N = 9\n",
      "1.8e-15, -9.310261326900653, -9.310261326900655\n",
      "0.0e+00, -2.0785980970320495, -2.0785980970320495\n",
      "0.0e+00, -4.121283470792972, -4.121283470792972\n",
      "-3.3e-16, -0.7041998695252183, -0.704199869525218\n",
      "0.0e+00, 8.374696014814843, 8.374696014814843\n",
      "1.3e-15, 1.1910418967189536, 1.1910418967189522\n",
      "0.0e+00, -2.150130809731222, -2.150130809731222\n",
      "1.8e-15, 4.041743112457445, 4.041743112457444\n",
      "-4.4e-16, -3.448607473985783, -3.4486074739857826\n",
      "1.8e-15, -4.668817093051846, -4.668817093051848\n",
      "1.5e-15, 0.22166916475410728, 0.22166916475410575\n",
      "-4.4e-16, 2.0814734031800963, 2.0814734031800968\n",
      "-1.8e-15, -6.775744518642109, -6.7757445186421075\n",
      "1.8e-15, 9.772829059045725, 9.772829059045723\n",
      "0.0e+00, 1.7932858276226382, 1.7932858276226382\n",
      "-1.8e-15, -8.261044198230286, -8.261044198230284\n",
      "0.0e+00, -5.542436483804846, -5.542436483804846\n",
      "2.7e-15, -7.840466334255322, -7.840466334255325\n",
      "-3.3e-16, -0.5626839923133026, -0.5626839923133022\n",
      "8.9e-16, 2.0829174821686753, 2.0829174821686745\n"
     ]
    }
   ],
   "source": [
    "# Vérification de la propriété de l'adjoint\n",
    "for N in (8,9):\n",
    "    print('N =', N)\n",
    "    h = np.random.randn(N)\n",
    "    A_op = ConvOperator(h=h)\n",
    "    for _ in range(20):\n",
    "        x = np.random.randn(A_op.shape[1])\n",
    "        y = np.random.randn(A_op.shape[0])\n",
    "        p1 = np.vdot(A_op @ x, y)\n",
    "        p2 = np.vdot(x, A_op.T @ y)\n",
    "        print(f'{p1-p2:.1e}, {p1}, {p2}')"
   ]
  },
  {
   "cell_type": "code",
   "execution_count": null,
   "id": "dadd03b3",
   "metadata": {},
   "outputs": [],
   "source": []
  }
 ],
 "metadata": {
  "kernelspec": {
   "display_name": "Python 3 (ipykernel)",
   "language": "python",
   "name": "python3"
  },
  "language_info": {
   "codemirror_mode": {
    "name": "ipython",
    "version": 3
   },
   "file_extension": ".py",
   "mimetype": "text/x-python",
   "name": "python",
   "nbconvert_exporter": "python",
   "pygments_lexer": "ipython3",
   "version": "3.11.10"
  }
 },
 "nbformat": 4,
 "nbformat_minor": 5
}
